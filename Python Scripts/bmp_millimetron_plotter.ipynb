{
 "cells": [
  {
   "cell_type": "code",
   "execution_count": 8,
   "metadata": {
    "collapsed": true
   },
   "outputs": [],
   "source": [
    "from PIL import Image, ImageOps\n",
    "from matplotlib import pyplot as plt\n",
    "import os\n",
    "\n",
    "path = \"C:\\Users\\user\\Desktop\\measure\"\n",
    "files = os.listdir(path)\n",
    "files = filter(lambda x: x.endswith('.bmp'), files)\n",
    "\n",
    "for k in files:\n",
    "    img = Image.open(path + '\\\\' + k)\n",
    "    width = img.size[0]\n",
    "    height = img.size[1]\n",
    "    pix = img.load()\n",
    "    \n",
    "    for i in range(width):\n",
    "        for j in range(height):\n",
    "            a = pix[i, j][0]\n",
    "            b = pix[i, j][1]\n",
    "            c = pix[i, j][2]\n",
    "            S = (a + b + c) // 3\n",
    "            img.putpixel((i, j), (S, S, S))\n",
    "     \n",
    "    pix = img.load()\n",
    "    d = []\n",
    "    for i in range(width):\n",
    "        d.append(pix[i, 366][0])\n",
    "\n",
    "    plt.axis([0, 1000, 0, 250])\n",
    "    plt.plot(range(width), d)\n",
    "    plt.grid(True)\n",
    "    plt.savefig((path + '\\\\' + k)[0:len(path + '\\\\' + k) - 4] + '_graph.jpg', dpi = 100)\n",
    "    plt.clf()"
   ]
  }
 ],
 "metadata": {
  "anaconda-cloud": {},
  "kernelspec": {
   "display_name": "Python 3",
   "language": "python",
   "name": "python3"
  },
  "language_info": {
   "codemirror_mode": {
    "name": "ipython",
    "version": 3
   },
   "file_extension": ".py",
   "mimetype": "text/x-python",
   "name": "python",
   "nbconvert_exporter": "python",
   "pygments_lexer": "ipython3",
   "version": "3.6.5"
  }
 },
 "nbformat": 4,
 "nbformat_minor": 1
}
