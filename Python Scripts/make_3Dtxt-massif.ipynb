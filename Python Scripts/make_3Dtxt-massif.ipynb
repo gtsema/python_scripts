{
 "cells": [
  {
   "cell_type": "code",
   "execution_count": 2,
   "metadata": {
    "collapsed": true
   },
   "outputs": [],
   "source": [
    "from matplotlib import pyplot as plt, numpy as np, rc\n",
    "from PIL import Image, ImageOps\n",
    "import os\n",
    "\n",
    "path = \"C:\\Users\\user\\Desktop\\measure\"\n",
    "files = os.listdir(path)\n",
    "files = filter(lambda x: x.endswith('.bmp'), files)\n",
    "\n",
    "for k in files:\n",
    "    img = Image.open(path + '\\\\' + k)\n",
    "    width, height = img.width, img.height\n",
    "    pix = img.load()\n",
    "        \n",
    "    datafile=open((path + '\\\\' + k)[0:len(path + '\\\\' + k) - 4] + '.txt', 'w')\n",
    "    #datafile.write('x \\t y \\t I \\n')\n",
    "         \n",
    "    for j in range(height):\n",
    "        for i in range(width):\n",
    "            a = pix[i, j][0]\n",
    "            b = pix[i, j][1]\n",
    "            c = pix[i, j][2]\n",
    "            S = (a + b + c) // 3\n",
    "            datafile.write(str(S) + ' ')\n",
    "        datafile.write('\\n')\n",
    "    \n",
    "    datafile.close()"
   ]
  },
  {
   "cell_type": "code",
   "execution_count": null,
   "metadata": {
    "collapsed": true
   },
   "outputs": [],
   "source": []
  }
 ],
 "metadata": {
  "anaconda-cloud": {},
  "kernelspec": {
   "display_name": "Python [default]",
   "language": "python",
   "name": "python2"
  },
  "language_info": {
   "codemirror_mode": {
    "name": "ipython",
    "version": 2
   },
   "file_extension": ".py",
   "mimetype": "text/x-python",
   "name": "python",
   "nbconvert_exporter": "python",
   "pygments_lexer": "ipython2",
   "version": "2.7.12"
  }
 },
 "nbformat": 4,
 "nbformat_minor": 1
}
