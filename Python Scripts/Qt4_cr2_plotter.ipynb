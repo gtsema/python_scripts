{
 "cells": [
  {
   "cell_type": "code",
   "execution_count": 3,
   "metadata": {
    "collapsed": false
   },
   "outputs": [],
   "source": [
    "import sys, rawpy, os\n",
    "from PyQt4 import QtGui, QtCore\n",
    "from matplotlib import pyplot as plt\n",
    "from PIL import Image, ImageOps\n",
    "\n",
    "if __name__ == \"__main__\" :\n",
    "    \n",
    "\n",
    "    class OpenFile(QtGui.QMainWindow):\n",
    "        def __init__(self, parent=None):\n",
    "            QtGui.QMainWindow.__init__(self, parent)\n",
    "\n",
    "            self.setGeometry(500, 500, 200, 100)\n",
    "            self.setWindowTitle('OpenFile')\n",
    "\n",
    "            self.label = QtGui.QLabel()\n",
    "            self.setCentralWidget(self.label)\n",
    "            self.statusBar()\n",
    "            self.setFocus()\n",
    "\n",
    "            exit = QtGui.QAction(QtGui.QIcon('icon.png'), 'Open', self)\n",
    "            exit.setShortcut('Ctrl+O')\n",
    "            exit.setStatusTip('Open new File')\n",
    "            self.connect(exit, QtCore.SIGNAL('triggered()'), self.showDialog)\n",
    "\n",
    "            menubar = self.menuBar()\n",
    "            file = menubar.addMenu('&File')\n",
    "            file.addAction(exit)\n",
    "\n",
    "        def showDialog(self):\n",
    "            filename = QtGui.QFileDialog.getOpenFileName(self, 'Open file')\n",
    "            self.label.setText(filename)\n",
    "        \n",
    "\n",
    "    \n",
    "    app = QtGui.QApplication(sys.argv)\n",
    "    cd = OpenFile()\n",
    "    cd.show()\n",
    "\n",
    "    app.aboutToQuit.connect(app.deleteLater)\n",
    "\n",
    "    app.exec_()"
   ]
  },
  {
   "cell_type": "code",
   "execution_count": null,
   "metadata": {
    "collapsed": true
   },
   "outputs": [],
   "source": [
    "from PyQt4 import Qt\n",
    "import sys\n",
    "if __name__ == \"__main__\" :\n",
    "    app = Qt.QApplication(sys.argv)\n",
    "    label = Qt.QLabel(\"Hello, PyQt4!\")\n",
    "    label.show()\n",
    "    app.exec_()"
   ]
  },
  {
   "cell_type": "code",
   "execution_count": null,
   "metadata": {
    "collapsed": true
   },
   "outputs": [],
   "source": []
  }
 ],
 "metadata": {
  "kernelspec": {
   "display_name": "Python [conda root]",
   "language": "python",
   "name": "conda-root-py"
  },
  "language_info": {
   "codemirror_mode": {
    "name": "ipython",
    "version": 2
   },
   "file_extension": ".py",
   "mimetype": "text/x-python",
   "name": "python",
   "nbconvert_exporter": "python",
   "pygments_lexer": "ipython2",
   "version": "2.7.12"
  }
 },
 "nbformat": 4,
 "nbformat_minor": 1
}
