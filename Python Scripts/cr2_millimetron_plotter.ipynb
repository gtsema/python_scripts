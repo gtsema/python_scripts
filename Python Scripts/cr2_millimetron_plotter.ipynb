{
 "cells": [
  {
   "cell_type": "code",
   "execution_count": null,
   "metadata": {},
   "outputs": [],
   "source": [
    "from matplotlib import pyplot as plt, rc\n",
    "from PIL import Image, ImageOps\n",
    "import rawpy, os\n",
    "\n",
    "font = {'family': 'Verdana',\n",
    "       'weight': 'normal'}\n",
    "rc('font', **font)\n",
    "\n",
    "path = \"C:\\Users\\user\\Desktop\\measure_4\"\n",
    "files = os.listdir(path)\n",
    "files = filter(lambda x: x.endswith('.CR2'), files)\n",
    "\n",
    "for k in files:\n",
    "    raw = rawpy.imread(path + '\\\\' + k)\n",
    "    rgb = raw.postprocess()\n",
    "    img = Image.fromarray(rgb)\n",
    "    img = ImageOps.fit(img, (1300, 882), Image.ANTIALIAS)\n",
    "    width = img.size[0]\n",
    "    height = img.size[1]\n",
    "    pix = img.load()\n",
    "    \n",
    "    for i in range(width):\n",
    "        for j in range(height):\n",
    "            a = pix[i, j][0]\n",
    "            b = pix[i, j][1]\n",
    "            c = pix[i, j][2]\n",
    "            S = (a + b + c) // 3\n",
    "            img.putpixel((i, j), (S, S, S))\n",
    "     \n",
    "    pix = img.load()\n",
    "    d = []\n",
    "    for i in range(width):\n",
    "        d.append(pix[i, 441][0])\n",
    "    \n",
    "    plt.title(u'Изображение ' + k)\n",
    "    plt.xlabel(u'Номер пикселя')\n",
    "    plt.ylabel(u'Яркость')\n",
    "    plt.axis([0, 1000, 0, 250])\n",
    "    plt.plot(range(width), d)\n",
    "    plt.grid(True)\n",
    "    plt.savefig((path + '\\\\' + k)[0:len(path + '\\\\' + k) - 4] + '_graph.jpg', dpi = 100)\n",
    "    plt.clf()"
   ]
  },
  {
   "cell_type": "code",
   "execution_count": null,
   "metadata": {
    "collapsed": true
   },
   "outputs": [],
   "source": []
  }
 ],
 "metadata": {
  "kernelspec": {
   "display_name": "Python 3",
   "language": "python",
   "name": "python3"
  },
  "language_info": {
   "codemirror_mode": {
    "name": "ipython",
    "version": 3
   },
   "file_extension": ".py",
   "mimetype": "text/x-python",
   "name": "python",
   "nbconvert_exporter": "python",
   "pygments_lexer": "ipython3",
   "version": "3.6.5"
  }
 },
 "nbformat": 4,
 "nbformat_minor": 1
}
