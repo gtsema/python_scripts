{
 "cells": [
  {
   "cell_type": "code",
   "execution_count": null,
   "metadata": {
    "collapsed": false
   },
   "outputs": [],
   "source": [
    "from matplotlib import pyplot as plt\n",
    "from PIL import Image, ImageOps\n",
    "import rawpy, os\n",
    "\n",
    "path = \"C:\\Users\\user\\Desktop\\image1\"\n",
    "files = os.listdir(path)\n",
    "files = filter(lambda x: x.endswith('.CR2'), files)\n",
    "\n",
    "for k in files:\n",
    "    raw = rawpy.imread(path + '\\\\' + k)\n",
    "    rgb = raw.postprocess()\n",
    "    img = Image.fromarray(rgb)\n",
    "    img = ImageOps.fit(img, (img.size[0]/4, img.size[1]/4), Image.ANTIALIAS)\n",
    "    img.save((path + '\\\\' + k)[0:len(path + '\\\\' + k) - 4] + '.jpg')"
   ]
  },
  {
   "cell_type": "code",
   "execution_count": null,
   "metadata": {
    "collapsed": true
   },
   "outputs": [],
   "source": []
  }
 ],
 "metadata": {
  "anaconda-cloud": {},
  "kernelspec": {
   "display_name": "Python [default]",
   "language": "python",
   "name": "python2"
  },
  "language_info": {
   "codemirror_mode": {
    "name": "ipython",
    "version": 2
   },
   "file_extension": ".py",
   "mimetype": "text/x-python",
   "name": "python",
   "nbconvert_exporter": "python",
   "pygments_lexer": "ipython2",
   "version": "2.7.12"
  }
 },
 "nbformat": 4,
 "nbformat_minor": 1
}
