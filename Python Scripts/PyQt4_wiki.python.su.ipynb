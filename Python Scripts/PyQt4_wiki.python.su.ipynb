{
 "cells": [
  {
   "cell_type": "code",
   "execution_count": null,
   "metadata": {
    "collapsed": false
   },
   "outputs": [],
   "source": [
    "import sys\n",
    "from PyQt4 import QtGui\n",
    "\n",
    "class Icon(QtGui.QWidget):\n",
    "    def __init__(self, parent=None):\n",
    "        QtGui.QWidget.__init__(self, parent)\n",
    "    \n",
    "        self.setGeometry(300, 300, 250, 150)\n",
    "        self.setWindowTitle('Icon')\n",
    "        self.setWindowIcon(QtGui.QIcon('icon.png'))\n",
    "\n",
    "app = QtGui.QApplication(sys.argv)\n",
    "icon = Icon()\n",
    "icon.show()\n",
    "sys.exit(app.exec_())"
   ]
  },
  {
   "cell_type": "code",
   "execution_count": null,
   "metadata": {
    "collapsed": false
   },
   "outputs": [],
   "source": [
    "import sys\n",
    "from PyQt4 import QtGui, QtCore\n",
    "\n",
    "class Tooltip(QtGui.QWidget):\n",
    "    def __init__(self, parent=None):\n",
    "        QtGui.QWidget.__init__(self, parent)\n",
    "        \n",
    "        self.setGeometry(300, 300, 250, 150)\n",
    "        self.setWindowTitle('Tooltip')\n",
    "        \n",
    "        self.setToolTip('This is a <b>QWidget</b> widget')\n",
    "        QtGui.QToolTip.setFont(QtGui.QFont('OldEnglish', 10))\n",
    "        \n",
    "app = QtGui.QApplication(sys.argv)\n",
    "tooltip = Tooltip()\n",
    "tooltip.show()\n",
    "sys.exit(app.exec_())\n",
    "        "
   ]
  },
  {
   "cell_type": "code",
   "execution_count": null,
   "metadata": {
    "collapsed": false
   },
   "outputs": [],
   "source": [
    "import sys\n",
    "from PyQt4 import QtGui, QtCore\n",
    "\n",
    "class QuitButton(QtGui.QWidget):\n",
    "    def __init__(self, parent=None):\n",
    "        QtGui.QWidget.__init__(self, parent)\n",
    "        \n",
    "        self.setGeometry(300, 300, 250, 150)\n",
    "        self.setWindowTitle('Icon')\n",
    "        \n",
    "        quit = QtGui.QPushButton('Close', self)\n",
    "        quit.setGeometry(10, 10, 60, 35)\n",
    "        \n",
    "        self.connect(quit, QtCore.SIGNAL('clicked()'),\n",
    "                     QtGui.qApp, QtCore.SLOT('quit()'))\n",
    "        \n",
    "app = QtGui.QApplication(sys.argv)\n",
    "qb = QuitButton()\n",
    "qb.show()\n",
    "\n",
    "app.aboutToQuit.connect(app.deleteLater)\n",
    "\n",
    "sys.exit(app.exec_())"
   ]
  },
  {
   "cell_type": "code",
   "execution_count": null,
   "metadata": {
    "collapsed": false
   },
   "outputs": [],
   "source": [
    "import sys\n",
    "from PyQt4 import QtGui\n",
    "\n",
    "class MessageBox(QtGui.QWidget):\n",
    "    def __init__(self, parent=None):\n",
    "        QtGui.QWidget.__init__(self, parent)\n",
    "        \n",
    "        self.setGeometry(300, 300, 250, 150)\n",
    "        self.setWindowTitle('message box')\n",
    "        \n",
    "    def closeEvent(self, event):\n",
    "        reply = QtGui.QMessageBox.question(self, 'Message',\n",
    "            'Are you sure to quit', QtGui.QMessageBox.Yes, QtGui.QMessageBox.No)\n",
    "        \n",
    "        if reply == QtGui.QMessageBox.Yes:\n",
    "            event.accept()\n",
    "        else:\n",
    "            event.ignore()\n",
    "            \n",
    "app = QtGui.QApplication(sys.argv)\n",
    "qb = MessageBox()\n",
    "qb.show()\n",
    "\n",
    "app.aboutToQuit.connect(app.deleteLater)\n",
    "\n",
    "sys.exit(app.exec_())"
   ]
  },
  {
   "cell_type": "code",
   "execution_count": null,
   "metadata": {
    "collapsed": false
   },
   "outputs": [],
   "source": [
    "import sys\n",
    "from PyQt4 import QtGui\n",
    "\n",
    "class Center(QtGui.QWidget):\n",
    "    def __init__(self, parent=None):\n",
    "        QtGui.QWidget.__init__(self, parent)\n",
    "        \n",
    "        self.resize(250, 150)\n",
    "        self.setWindowTitle('Center')\n",
    "        self.center()\n",
    "        \n",
    "    def center(self):\n",
    "        screen = QtGui.QDesktopWidget().screenGeometry()\n",
    "        size = self.geometry()\n",
    "        self.move((screen.width() - size.width())/2, (screen.height() - size.height())/2)\n",
    "            \n",
    "app = QtGui.QApplication(sys.argv)\n",
    "qb = Center()\n",
    "qb.show()\n",
    "\n",
    "app.aboutToQuit.connect(app.deleteLater)\n",
    "\n",
    "sys.exit(app.exec_())"
   ]
  },
  {
   "cell_type": "code",
   "execution_count": null,
   "metadata": {
    "collapsed": false
   },
   "outputs": [],
   "source": [
    "import sys\n",
    "from PyQt4 import QtGui\n",
    "\n",
    "class MainWindow(QtGui.QMainWindow):\n",
    "    def __init__(self):\n",
    "        QtGui.QMainWindow.__init__(self)\n",
    "        \n",
    "        self.resize(250, 150)\n",
    "        self.setWindowTitle('statusbar')\n",
    "        \n",
    "        self.statusBar().showMessage('Ready')\n",
    "        \n",
    "app = QtGui.QApplication(sys.argv)\n",
    "main = MainWindow()\n",
    "main.show()\n",
    "\n",
    "app.aboutToQuit.connect(app.deleteLater)\n",
    "\n",
    "sys.exit(app.exec_())"
   ]
  },
  {
   "cell_type": "code",
   "execution_count": null,
   "metadata": {
    "collapsed": false
   },
   "outputs": [],
   "source": [
    "import sys\n",
    "from PyQt4 import QtGui, QtCore\n",
    "\n",
    "class MainWindow(QtGui.QMainWindow):\n",
    "    def __init__(self):\n",
    "        QtGui.QMainWindow.__init__(self)\n",
    "        \n",
    "        self.resize(250, 150)\n",
    "        self.setWindowTitle('menubar')\n",
    "        \n",
    "        exit = QtGui.QAction(QtGui.QIcon('icon.png'), 'Exit', self)\n",
    "        exit.setShortcut('Ctrl+Q')\n",
    "        exit.setStatusTip('Exit Application')\n",
    "        self.connect(exit, QtCore.SIGNAL('triggered()'), QtCore.SLOT('close()'))\n",
    "        \n",
    "        self.statusBar()\n",
    "        \n",
    "        menubar = self.menuBar()\n",
    "        file = menubar.addMenu('&File')\n",
    "        file.addAction(exit)\n",
    "        \n",
    "app = QtGui.QApplication(sys.argv)\n",
    "main = MainWindow()\n",
    "main.show()\n",
    "\n",
    "app.aboutToQuit.connect(app.deleteLater)\n",
    "\n",
    "sys.exit(app.exec_())"
   ]
  },
  {
   "cell_type": "code",
   "execution_count": null,
   "metadata": {
    "collapsed": false
   },
   "outputs": [],
   "source": [
    "import sys\n",
    "from PyQt4 import QtGui, QtCore\n",
    "\n",
    "class MainWindow(QtGui.QMainWindow):\n",
    "    def __init__(self):\n",
    "        QtGui.QMainWindow.__init__(self)\n",
    "        \n",
    "        self.resize(250, 150)\n",
    "        self.setWindowTitle('toolbar')\n",
    "        \n",
    "        self.exit = QtGui.QAction(QtGui.QIcon('icon.png'), 'Exit', self)\n",
    "        self.exit.setShortcut('Ctrl+Q')\n",
    "        self.connect(self.exit, QtCore.SIGNAL('triggered()'), QtCore.SLOT('close()'))\n",
    "        \n",
    "        self.toolbar = self.addToolBar('Exit')\n",
    "        self.toolbar.addAction(self.exit)\n",
    "        \n",
    "app = QtGui.QApplication(sys.argv)\n",
    "main = MainWindow()\n",
    "main.show()\n",
    "\n",
    "app.aboutToQuit.connect(app.deleteLater)\n",
    "\n",
    "sys.exit(app.exec_())"
   ]
  },
  {
   "cell_type": "code",
   "execution_count": null,
   "metadata": {
    "collapsed": false
   },
   "outputs": [],
   "source": [
    "import sys\n",
    "from PyQt4 import QtGui, QtCore\n",
    "\n",
    "class MainWindow(QtGui.QMainWindow):\n",
    "    def __init__(self):\n",
    "        QtGui.QMainWindow.__init__(self)\n",
    "        \n",
    "        self.resize(250, 150)\n",
    "        self.setWindowTitle('mainwindow')\n",
    "        \n",
    "        textEdit = QtGui.QTextEdit()\n",
    "        self.setCentralWidget(textEdit)\n",
    "        \n",
    "        exit = QtGui.QAction(QtGui.QIcon('icon.png'), 'Exit', self)\n",
    "        exit.setShortcut('Ctrl+Q')\n",
    "        exit.setStatusTip('Exit Application')\n",
    "        self.connect(exit, QtCore.SIGNAL('triggered()'), QtCore.SLOT('close()'))\n",
    "\n",
    "        self.statusBar()\n",
    "        \n",
    "        menubar = self.menuBar()\n",
    "        file = menubar.addMenu('&File')\n",
    "        file.addAction(exit)\n",
    "        \n",
    "        toolbar = self.addToolBar('Exit')\n",
    "        toolbar.addAction(exit)\n",
    "        \n",
    "app = QtGui.QApplication(sys.argv)\n",
    "main = MainWindow()\n",
    "main.show()\n",
    "\n",
    "app.aboutToQuit.connect(app.deleteLater)\n",
    "\n",
    "sys.exit(app.exec_())"
   ]
  },
  {
   "cell_type": "code",
   "execution_count": 2,
   "metadata": {
    "collapsed": false
   },
   "outputs": [
    {
     "ename": "SystemExit",
     "evalue": "0",
     "output_type": "error",
     "traceback": [
      "An exception has occurred, use %tb to see the full traceback.\n",
      "\u001b[0;31mSystemExit\u001b[0m\u001b[0;31m:\u001b[0m 0\n"
     ]
    },
    {
     "name": "stderr",
     "output_type": "stream",
     "text": [
      "C:\\Program Files\\Anaconda2\\lib\\site-packages\\IPython\\core\\interactiveshell.py:2889: UserWarning: To exit: use 'exit', 'quit', or Ctrl-D.\n",
      "  warn(\"To exit: use 'exit', 'quit', or Ctrl-D.\", stacklevel=1)\n"
     ]
    }
   ],
   "source": [
    "import sys\n",
    "from PyQt4 import QtGui\n",
    "\n",
    "\n",
    "class Absolute(QtGui.QWidget):\n",
    "    def __init__(self, parent=None):\n",
    "        QtGui.QWidget.__init__(self, parent)\n",
    "\n",
    "        self.setWindowTitle('Communication')\n",
    "\n",
    "        label = QtGui.QLabel('Couldn\\'t', self)\n",
    "        label.move(15, 10)\n",
    "\n",
    "        label = QtGui.QLabel('care', self)\n",
    "        label.move(35, 40)\n",
    "\n",
    "        label = QtGui.QLabel('less', self)\n",
    "        label.move(55, 65)\n",
    "\n",
    "        label = QtGui.QLabel('And', self)\n",
    "        label.move(115, 65)\n",
    "\n",
    "        label = QtGui.QLabel('then', self)\n",
    "        label.move(135, 45)\n",
    "\n",
    "        label = QtGui.QLabel('you', self)\n",
    "        label.move(115, 25)\n",
    "\n",
    "        label = QtGui.QLabel('kissed', self)\n",
    "        label.move(145, 10)\n",
    "\n",
    "        label = QtGui.QLabel('me', self)\n",
    "        label.move(215, 10)\n",
    "\n",
    "        self.resize(250, 150)\n",
    "\n",
    "app = QtGui.QApplication(sys.argv)\n",
    "qb = Absolute()\n",
    "qb.show()\n",
    "\n",
    "app.aboutToQuit.connect(app.deleteLater)\n",
    "\n",
    "sys.exit(app.exec_())"
   ]
  },
  {
   "cell_type": "code",
   "execution_count": 2,
   "metadata": {
    "collapsed": false,
    "scrolled": true
   },
   "outputs": [
    {
     "ename": "SystemExit",
     "evalue": "0",
     "output_type": "error",
     "traceback": [
      "An exception has occurred, use %tb to see the full traceback.\n",
      "\u001b[0;31mSystemExit\u001b[0m\u001b[0;31m:\u001b[0m 0\n"
     ]
    }
   ],
   "source": [
    "import sys\n",
    "from PyQt4 import QtGui\n",
    "\n",
    "\n",
    "class BoxLayout(QtGui.QWidget):\n",
    "    def __init__(self, parent=None):\n",
    "        QtGui.QWidget.__init__(self, parent)\n",
    "\n",
    "        self.setWindowTitle('box layout')\n",
    "\n",
    "        ok = QtGui.QPushButton(\"OK\")\n",
    "        cancel = QtGui.QPushButton(\"Cancel\")\n",
    "\n",
    "        hbox = QtGui.QHBoxLayout()\n",
    "        hbox.addStretch(1)\n",
    "        hbox.addWidget(ok)\n",
    "        hbox.addWidget(cancel)\n",
    "\n",
    "        vbox = QtGui.QVBoxLayout()\n",
    "        vbox.addStretch(1)\n",
    "        vbox.addLayout(hbox)\n",
    "\n",
    "        self.setLayout(vbox)\n",
    "\n",
    "        self.resize(300, 150)\n",
    "\n",
    "app = QtGui.QApplication(sys.argv)\n",
    "qb = BoxLayout()\n",
    "qb.show()\n",
    "\n",
    "app.aboutToQuit.connect(app.deleteLater)\n",
    "\n",
    "sys.exit(app.exec_())"
   ]
  },
  {
   "cell_type": "code",
   "execution_count": 4,
   "metadata": {
    "collapsed": false
   },
   "outputs": [
    {
     "ename": "SystemExit",
     "evalue": "0",
     "output_type": "error",
     "traceback": [
      "An exception has occurred, use %tb to see the full traceback.\n",
      "\u001b[0;31mSystemExit\u001b[0m\u001b[0;31m:\u001b[0m 0\n"
     ]
    }
   ],
   "source": [
    "#!/usr/bin/python\n",
    "\n",
    "# gridlayout.py\n",
    "\n",
    "import sys\n",
    "from PyQt4 import QtGui\n",
    "\n",
    "\n",
    "class GridLayout(QtGui.QWidget):\n",
    "    def __init__(self, parent=None):\n",
    "        QtGui.QWidget.__init__(self, parent)\n",
    "\n",
    "        self.setWindowTitle('grid layout')\n",
    "\n",
    "        names = ['Cls', 'Bck', '', 'Close', '7', '8', '9', '/',\n",
    "            '4', '5', '6', '*', '1', '2', '3', '-',\n",
    "            '0', '.', '=', '+']\n",
    "\n",
    "        grid = QtGui.QGridLayout()\n",
    "\n",
    "        j = 0\n",
    "        pos = [(0, 0), (0, 1), (0, 2), (0, 3),\n",
    "                (1, 0), (1, 1), (1, 2), (1, 3),\n",
    "                (2, 0), (2, 1), (2, 2), (2, 3),\n",
    "                (3, 0), (3, 1), (3, 2), (3, 3 ),\n",
    "                (4, 0), (4, 1), (4, 2), (4, 3)]\n",
    "\n",
    "        for i in names:\n",
    "            button = QtGui.QPushButton(i)\n",
    "            if j == 2:\n",
    "                grid.addWidget(QtGui.QLabel(''), 0, 2)\n",
    "            else: grid.addWidget(button, pos[j][0], pos[j][1])\n",
    "            j = j + 1\n",
    "\n",
    "        self.setLayout(grid)\n",
    "\n",
    "\n",
    "\n",
    "app = QtGui.QApplication(sys.argv)\n",
    "qb = GridLayout()\n",
    "qb.show()\n",
    "\n",
    "app.aboutToQuit.connect(app.deleteLater)\n",
    "\n",
    "sys.exit(app.exec_())"
   ]
  },
  {
   "cell_type": "code",
   "execution_count": 5,
   "metadata": {
    "collapsed": false
   },
   "outputs": [
    {
     "ename": "SystemExit",
     "evalue": "0",
     "output_type": "error",
     "traceback": [
      "An exception has occurred, use %tb to see the full traceback.\n",
      "\u001b[0;31mSystemExit\u001b[0m\u001b[0;31m:\u001b[0m 0\n"
     ]
    }
   ],
   "source": [
    "import sys\n",
    "from PyQt4 import QtGui\n",
    "\n",
    "\n",
    "class GridLayout2(QtGui.QWidget):\n",
    "    def __init__(self, parent=None):\n",
    "        QtGui.QWidget.__init__(self, parent)\n",
    "\n",
    "        self.setWindowTitle('grid layout')\n",
    "\n",
    "        title = QtGui.QLabel('Title')\n",
    "        author = QtGui.QLabel('Author')\n",
    "        review = QtGui.QLabel('Review')\n",
    "\n",
    "        titleEdit = QtGui.QLineEdit()\n",
    "        authorEdit = QtGui.QLineEdit()\n",
    "        reviewEdit = QtGui.QTextEdit()\n",
    "\n",
    "        grid = QtGui.QGridLayout()\n",
    "        grid.setSpacing(10)\n",
    "\n",
    "        grid.addWidget(title, 1, 0)\n",
    "        grid.addWidget(titleEdit, 1, 1)\n",
    "\n",
    "        grid.addWidget(author, 2, 0)\n",
    "        grid.addWidget(authorEdit, 2, 1)\n",
    "\n",
    "        grid.addWidget(review, 3, 0)\n",
    "        grid.addWidget(reviewEdit, 3, 1, 5, 1)\n",
    "\n",
    "\n",
    "        self.setLayout(grid)\n",
    "        self.resize(350, 300)\n",
    "\n",
    "\n",
    "app = QtGui.QApplication(sys.argv)\n",
    "qb = GridLayout2()\n",
    "qb.show()\n",
    "\n",
    "app.aboutToQuit.connect(app.deleteLater)\n",
    "\n",
    "sys.exit(app.exec_())"
   ]
  },
  {
   "cell_type": "code",
   "execution_count": 7,
   "metadata": {
    "collapsed": false
   },
   "outputs": [
    {
     "ename": "SystemExit",
     "evalue": "0",
     "output_type": "error",
     "traceback": [
      "An exception has occurred, use %tb to see the full traceback.\n",
      "\u001b[0;31mSystemExit\u001b[0m\u001b[0;31m:\u001b[0m 0\n"
     ]
    }
   ],
   "source": [
    "import sys\n",
    "from PyQt4 import QtGui, QtCore\n",
    "\n",
    "\n",
    "class SigSlot(QtGui.QWidget):\n",
    "    def __init__(self, parent=None):\n",
    "        QtGui.QWidget.__init__(self, parent)\n",
    "\n",
    "        self.setWindowTitle('signal & slot')\n",
    "\n",
    "        lcd = QtGui.QLCDNumber(self)\n",
    "        slider = QtGui.QSlider(QtCore.Qt.Horizontal, self)\n",
    "\n",
    "        vbox = QtGui.QVBoxLayout()\n",
    "        vbox.addWidget(lcd)\n",
    "        vbox.addWidget(slider)\n",
    "\n",
    "        self.setLayout(vbox)\n",
    "        self.connect(slider,  QtCore.SIGNAL('valueChanged(int)'), lcd,\n",
    "                QtCore.SLOT('display(int)') )\n",
    "\n",
    "        self.resize(250, 150)\n",
    "\n",
    "\n",
    "app = QtGui.QApplication(sys.argv)\n",
    "qb = SigSlot()\n",
    "qb.show()\n",
    "\n",
    "app.aboutToQuit.connect(app.deleteLater)\n",
    "\n",
    "sys.exit(app.exec_())"
   ]
  },
  {
   "cell_type": "code",
   "execution_count": 8,
   "metadata": {
    "collapsed": false
   },
   "outputs": [
    {
     "ename": "SystemExit",
     "evalue": "0",
     "output_type": "error",
     "traceback": [
      "An exception has occurred, use %tb to see the full traceback.\n",
      "\u001b[0;31mSystemExit\u001b[0m\u001b[0;31m:\u001b[0m 0\n"
     ]
    }
   ],
   "source": [
    "import sys\n",
    "from PyQt4 import QtGui, QtCore\n",
    "\n",
    "class Escape(QtGui.QWidget):\n",
    "    def __init__(self, parent=None):\n",
    "        QtGui.QWidget.__init__(self, parent)\n",
    "\n",
    "        self.setWindowTitle('escape')\n",
    "        self.resize(250, 150)\n",
    "        self.connect(self, QtCore.SIGNAL('closeEmitApp()'), QtCore.SLOT('close()') )\n",
    "\n",
    "\n",
    "    def keyPressEvent(self, event):\n",
    "        if event.key() == QtCore.Qt.Key_Escape:\n",
    "            self.close()\n",
    "\n",
    "app = QtGui.QApplication(sys.argv)\n",
    "qb = Escape()\n",
    "qb.show()\n",
    "\n",
    "app.aboutToQuit.connect(app.deleteLater)\n",
    "\n",
    "sys.exit(app.exec_())"
   ]
  },
  {
   "cell_type": "code",
   "execution_count": 9,
   "metadata": {
    "collapsed": false
   },
   "outputs": [
    {
     "ename": "SystemExit",
     "evalue": "0",
     "output_type": "error",
     "traceback": [
      "An exception has occurred, use %tb to see the full traceback.\n",
      "\u001b[0;31mSystemExit\u001b[0m\u001b[0;31m:\u001b[0m 0\n"
     ]
    }
   ],
   "source": [
    "import sys\n",
    "from PyQt4 import QtGui, QtCore\n",
    "\n",
    "\n",
    "class Emit(QtGui.QWidget):\n",
    "    def __init__(self, parent=None):\n",
    "        QtGui.QWidget.__init__(self, parent)\n",
    "\n",
    "        self.setWindowTitle('emit')\n",
    "        self.resize(250, 150)\n",
    "        self.connect(self, QtCore.SIGNAL('closeEmitApp()'), QtCore.SLOT('close()') )\n",
    "\n",
    "    def mousePressEvent(self, event):\n",
    "        self.emit(QtCore.SIGNAL('closeEmitApp()'))\n",
    "\n",
    "app = QtGui.QApplication(sys.argv)\n",
    "qb = Emit()\n",
    "qb.show()\n",
    "\n",
    "app.aboutToQuit.connect(app.deleteLater)\n",
    "\n",
    "sys.exit(app.exec_())"
   ]
  },
  {
   "cell_type": "code",
   "execution_count": 11,
   "metadata": {
    "collapsed": false
   },
   "outputs": [
    {
     "data": {
      "text/plain": [
       "0"
      ]
     },
     "execution_count": 11,
     "metadata": {},
     "output_type": "execute_result"
    }
   ],
   "source": [
    "import sys\n",
    "from PyQt4 import QtGui\n",
    "from PyQt4 import QtCore\n",
    "\n",
    "\n",
    "class InputDialog(QtGui.QWidget):\n",
    "    def __init__(self, parent=None):\n",
    "        QtGui.QWidget.__init__(self, parent)\n",
    "\n",
    "        self.setGeometry(300, 300, 350, 80)\n",
    "        self.setWindowTitle('InputDialog')\n",
    "\n",
    "        self.button = QtGui.QPushButton('Dialog', self)\n",
    "        self.button.setFocusPolicy(QtCore.Qt.NoFocus)\n",
    "\n",
    "        self.button.move(20, 20)\n",
    "        self.connect(self.button, QtCore.SIGNAL('clicked()'), self.showDialog)\n",
    "        self.setFocus()\n",
    "\n",
    "        self.label = QtGui.QLineEdit(self)\n",
    "        self.label.move(130, 22)\n",
    "\n",
    "\n",
    "    def showDialog(self):\n",
    "        text, ok = QtGui.QInputDialog.getText(self, 'Input Dialog', 'Enter your name:')\n",
    "\n",
    "        if ok:\n",
    "            self.label.setText(unicode(text))\n",
    "\n",
    "\n",
    "app = QtGui.QApplication(sys.argv)\n",
    "icon = InputDialog()\n",
    "icon.show()\n",
    "\n",
    "app.aboutToQuit.connect(app.deleteLater)\n",
    "\n",
    "app.exec_()"
   ]
  },
  {
   "cell_type": "code",
   "execution_count": 12,
   "metadata": {
    "collapsed": false
   },
   "outputs": [
    {
     "data": {
      "text/plain": [
       "0"
      ]
     },
     "execution_count": 12,
     "metadata": {},
     "output_type": "execute_result"
    }
   ],
   "source": [
    "import sys\n",
    "from PyQt4 import QtGui\n",
    "from PyQt4 import QtCore\n",
    "\n",
    "\n",
    "class ColorDialog(QtGui.QWidget):\n",
    "    def __init__(self, parent=None):\n",
    "        QtGui.QWidget.__init__(self, parent)\n",
    "\n",
    "        color = QtGui.QColor(0, 0, 0)\n",
    "\n",
    "        self.setGeometry(300, 300, 250, 180)\n",
    "        self.setWindowTitle('ColorDialog')\n",
    "\n",
    "        self.button = QtGui.QPushButton('Dialog', self)\n",
    "        self.button.setFocusPolicy(QtCore.Qt.NoFocus)\n",
    "        self.button.move(20, 20)\n",
    "\n",
    "        self.connect(self.button, QtCore.SIGNAL('clicked()'), self.showDialog)\n",
    "        self.setFocus()\n",
    "\n",
    "        self.widget = QtGui.QWidget(self)\n",
    "        self.widget.setStyleSheet(\"QWidget { background-color: %s }\"\n",
    "            % color.name())\n",
    "        self.widget.setGeometry(130, 22, 100, 100)\n",
    "\n",
    "\n",
    "    def showDialog(self):\n",
    "        color = QtGui.QColorDialog.getColor()\n",
    "\n",
    "        self.widget.setStyleSheet(\"QWidget { background-color: %s }\"\n",
    "            % color.name())\n",
    "\n",
    "app = QtGui.QApplication(sys.argv)\n",
    "cd = ColorDialog()\n",
    "cd.show()\n",
    "\n",
    "app.aboutToQuit.connect(app.deleteLater)\n",
    "\n",
    "app.exec_()"
   ]
  },
  {
   "cell_type": "code",
   "execution_count": 14,
   "metadata": {
    "collapsed": false
   },
   "outputs": [
    {
     "data": {
      "text/plain": [
       "0"
      ]
     },
     "execution_count": 14,
     "metadata": {},
     "output_type": "execute_result"
    }
   ],
   "source": [
    "import sys\n",
    "from PyQt4 import QtGui\n",
    "from PyQt4 import QtCore\n",
    "\n",
    "\n",
    "class OpenFile(QtGui.QMainWindow):\n",
    "    def __init__(self, parent=None):\n",
    "        QtGui.QMainWindow.__init__(self, parent)\n",
    "\n",
    "        self.setGeometry(300, 300, 350, 300)\n",
    "        self.setWindowTitle('OpenFile')\n",
    "\n",
    "        self.textEdit = QtGui.QTextEdit()\n",
    "        self.setCentralWidget(self.textEdit)\n",
    "        self.statusBar()\n",
    "        self.setFocus()\n",
    "\n",
    "        exit = QtGui.QAction(QtGui.QIcon('open.png'), 'Open', self)\n",
    "        exit.setShortcut('Ctrl+O')\n",
    "        exit.setStatusTip('Open new File')\n",
    "        self.connect(exit, QtCore.SIGNAL('triggered()'), self.showDialog)\n",
    "\n",
    "        menubar = self.menuBar()\n",
    "        file = menubar.addMenu('&File')\n",
    "        file.addAction(exit)\n",
    "\n",
    "    def showDialog(self):\n",
    "        filename = QtGui.QFileDialog.getOpenFileName(self, 'Open file',\n",
    "                    '/home')\n",
    "        file=open(filename)\n",
    "        data = file.read()\n",
    "        self.textEdit.setText(data)\n",
    "\n",
    "app = QtGui.QApplication(sys.argv)\n",
    "cd = OpenFile()\n",
    "cd.show()\n",
    "\n",
    "app.aboutToQuit.connect(app.deleteLater)\n",
    "\n",
    "app.exec_()"
   ]
  },
  {
   "cell_type": "code",
   "execution_count": null,
   "metadata": {
    "collapsed": true
   },
   "outputs": [],
   "source": []
  }
 ],
 "metadata": {
  "anaconda-cloud": {},
  "kernelspec": {
   "display_name": "Python [default]",
   "language": "python",
   "name": "python2"
  },
  "language_info": {
   "codemirror_mode": {
    "name": "ipython",
    "version": 2
   },
   "file_extension": ".py",
   "mimetype": "text/x-python",
   "name": "python",
   "nbconvert_exporter": "python",
   "pygments_lexer": "ipython2",
   "version": "2.7.12"
  }
 },
 "nbformat": 4,
 "nbformat_minor": 1
}
