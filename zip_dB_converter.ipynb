{
 "cells": [
  {
   "cell_type": "code",
   "execution_count": null,
   "metadata": {
    "collapsed": true
   },
   "outputs": [],
   "source": [
    "from matplotlib import pyplot as plt\n",
    "import zipfile\n",
    "import os\n",
    "import numpy\n",
    "\n",
    "#-----------------------------------------------------------------------------\n",
    "PATH = \"C:\\\\Users\\\\grigoriy\\\\Desktop\\\\test\"\n",
    "FILENAME = list(filter(lambda x: x.endswith('.zip'), os.listdir(PATH)))[0]\n",
    "xScale = 1e-6\n",
    "yScale = 1e9 #ГГц\n",
    "yScaleFactor = 50\n",
    "#-----------------------------------------------------------------------------\n",
    "\n",
    "def dBconvert(dB):\n",
    "    return pow(10, 0.1 * dB) / xScale # переводит Дб в отношение мощностей\n",
    "\n",
    "zf = zipfile.ZipFile(PATH + '\\\\' + FILENAME, 'r')\n",
    "prnFiles = list(filter(lambda x: x.endswith('.prn'), zf.namelist()))\n",
    "zf.close()\n",
    "\n",
    "for i in range(len(prnFiles)):\n",
    "    zf = zipfile.ZipFile(PATH + '\\\\' + FILENAME, 'r')\n",
    "    data = zf.read(prnFiles[i]).decode(\"utf-8\").split('\\r\\n')\n",
    "    zf.close()\n",
    "    \n",
    "    freq = []\n",
    "    reflection = []\n",
    "    \n",
    "    for j in range(2, len(data) - 1):\n",
    "        freq.append(int(data[j].split(',')[0]) / yScale)\n",
    "        reflection.append(dBconvert(float(data[j].split(',')[1])))\n",
    "        #reflection.append(float(data[j].split(',')[1]))\n",
    "    \n",
    "    plt.figure(figsize=(20, 10))\n",
    "    plt.plot(freq, reflection)\n",
    "    \n",
    "    plt.title(u'Измерение ' + prnFiles[i].split('.')[0])\n",
    "    plt.xlabel(u'Частота (ГГц)')\n",
    "    plt.ylabel(u'Отношение мощностей отраженного сигнала от образца и металла в разах (* ' + str(xScale) + ')')  \n",
    "    \n",
    "    plt.axis([min(freq) - 1, max(freq) + 1, 0, numpy.mean(reflection[360:6050]) * yScaleFactor])\n",
    "    plt.xticks(range(int(min(freq) - 1), int(max(freq) + 1), 1))\n",
    "    plt.grid(True)\n",
    "    \n",
    "    plt.savefig(PATH + '\\\\' + prnFiles[i].split('.')[0] + '_graph.jpg', dpi = 100)\n",
    "    \n",
    "    zipName = FILENAME.split('.')[0] + \"_graph.zip\"\n",
    "    \n",
    "    try:\n",
    "        newZip = zipfile.ZipFile(PATH + '\\\\' + zipName, 'a')\n",
    "        newZip.write(PATH + '\\\\' + prnFiles[i].split('.')[0] + '_graph.jpg',\n",
    "                     arcname = prnFiles[i].split('.')[0] + '_graph.jpg')\n",
    "        newZip.close()\n",
    "        os.remove(PATH + '\\\\' + prnFiles[i].split('.')[0] + '_graph.jpg')\n",
    "    except BaseException:\n",
    "        newZip.close()\n",
    "        print(\"undefined error\")"
   ]
  },
  {
   "cell_type": "code",
   "execution_count": 18,
   "metadata": {},
   "outputs": [
    {
     "ename": "IndexError",
     "evalue": "list index out of range",
     "output_type": "error",
     "traceback": [
      "\u001b[1;31m---------------------------------------------------------------------------\u001b[0m",
      "\u001b[1;31mIndexError\u001b[0m                                Traceback (most recent call last)",
      "\u001b[1;32m<ipython-input-18-5430e6cd4545>\u001b[0m in \u001b[0;36m<module>\u001b[1;34m()\u001b[0m\n\u001b[0;32m     21\u001b[0m \u001b[1;33m\u001b[0m\u001b[0m\n\u001b[0;32m     22\u001b[0m \u001b[0mzf\u001b[0m \u001b[1;33m=\u001b[0m \u001b[0mzipfile\u001b[0m\u001b[1;33m.\u001b[0m\u001b[0mZipFile\u001b[0m\u001b[1;33m(\u001b[0m\u001b[0mPATH\u001b[0m \u001b[1;33m+\u001b[0m \u001b[1;34m'\\\\'\u001b[0m \u001b[1;33m+\u001b[0m \u001b[0mFILENAME\u001b[0m\u001b[1;33m,\u001b[0m \u001b[1;34m'r'\u001b[0m\u001b[1;33m)\u001b[0m\u001b[1;33m\u001b[0m\u001b[0m\n\u001b[1;32m---> 23\u001b[1;33m \u001b[0mdata\u001b[0m \u001b[1;33m=\u001b[0m \u001b[0mzf\u001b[0m\u001b[1;33m.\u001b[0m\u001b[0mread\u001b[0m\u001b[1;33m(\u001b[0m\u001b[0mprnFiles\u001b[0m\u001b[1;33m[\u001b[0m\u001b[0mi\u001b[0m\u001b[1;33m]\u001b[0m\u001b[1;33m)\u001b[0m\u001b[1;33m.\u001b[0m\u001b[0mdecode\u001b[0m\u001b[1;33m(\u001b[0m\u001b[1;34m\"utf-8\"\u001b[0m\u001b[1;33m)\u001b[0m\u001b[1;33m.\u001b[0m\u001b[0msplit\u001b[0m\u001b[1;33m(\u001b[0m\u001b[1;34m'\\r\\n'\u001b[0m\u001b[1;33m)\u001b[0m\u001b[1;33m\u001b[0m\u001b[0m\n\u001b[0m\u001b[0;32m     24\u001b[0m \u001b[0mzf\u001b[0m\u001b[1;33m.\u001b[0m\u001b[0mclose\u001b[0m\u001b[1;33m(\u001b[0m\u001b[1;33m)\u001b[0m\u001b[1;33m\u001b[0m\u001b[0m\n\u001b[0;32m     25\u001b[0m \u001b[1;33m\u001b[0m\u001b[0m\n",
      "\u001b[1;31mIndexError\u001b[0m: list index out of range"
     ]
    }
   ],
   "source": [
    "from matplotlib import pyplot as plt\n",
    "import zipfile\n",
    "import os\n",
    "import numpy\n",
    "#-----------------------------------------------------------------------------\n",
    "PATH = \"C:\\\\Users\\\\grigoriy\\\\Desktop\\\\test\"\n",
    "FILENAME = list(filter(lambda x: x.endswith('.zip'), os.listdir(PATH)))[0]\n",
    "xScale = 1e-6\n",
    "yScale = 1e9 #ГГц\n",
    "yScaleFactor = 50\n",
    "#-----------------------------------------------------------------------------\n",
    "\n",
    "def dBconvert(dB):\n",
    "    return pow(10, 0.1 * dB) / xScale # переводит Дб в отношение мощностей\n",
    "\n",
    "zf = zipfile.ZipFile(PATH + '\\\\' + FILENAME, 'r')\n",
    "prnFiles = list(filter(lambda x: x.endswith('.prn'), zf.namelist()))\n",
    "zf.close()\n",
    "\n",
    "i = 8;\n",
    "\n",
    "zf = zipfile.ZipFile(PATH + '\\\\' + FILENAME, 'r')\n",
    "data = zf.read(prnFiles[i]).decode(\"utf-8\").split('\\r\\n')\n",
    "zf.close()\n",
    "    \n",
    "freq = []\n",
    "reflection = []\n",
    "\n",
    "for j in range(2, len(data) - 1):\n",
    "    freq.append(int(data[j].split(',')[0]) / yScale)\n",
    "    reflection.append(dBconvert(float(data[j].split(',')[1])))\n",
    "    #reflection.append(float(data[j].split(',')[1]))\n",
    "    \n",
    "plt.figure(figsize=(20, 10))\n",
    "plt.plot(freq, reflection)\n",
    "    \n",
    "plt.title(u'Измерение ' + prnFiles[i].split('.')[0])\n",
    "plt.xlabel(u'Частота (ГГц)')\n",
    "plt.ylabel(u'Отношение мощностей отраженного сигнала от образца и металла в разах (* ' + str(xScale) + ')')  \n",
    "    \n",
    "plt.axis([min(freq) - 1, max(freq) + 1, 0, 50])\n",
    "plt.xticks(range(int(min(freq) - 1), int(max(freq) + 1), 1))\n",
    "plt.grid(True)\n",
    "\n",
    "#plt.show()\n",
    "plt.savefig(PATH + '\\\\' + prnFiles[i].split('.')[0] + '_graph.jpg', dpi = 100)"
   ]
  },
  {
   "cell_type": "code",
   "execution_count": null,
   "metadata": {
    "collapsed": true
   },
   "outputs": [],
   "source": []
  }
 ],
 "metadata": {
  "kernelspec": {
   "display_name": "Python 3",
   "language": "python",
   "name": "python3"
  },
  "language_info": {
   "codemirror_mode": {
    "name": "ipython",
    "version": 3
   },
   "file_extension": ".py",
   "mimetype": "text/x-python",
   "name": "python",
   "nbconvert_exporter": "python",
   "pygments_lexer": "ipython3",
   "version": "3.6.5"
  }
 },
 "nbformat": 4,
 "nbformat_minor": 2
}
