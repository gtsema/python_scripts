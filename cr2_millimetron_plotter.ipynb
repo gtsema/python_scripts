{
 "cells": [
  {
   "cell_type": "code",
   "execution_count": 7,
   "metadata": {
    "collapsed": false
   },
   "outputs": [],
   "source": [
    "from matplotlib import pyplot as plt\n",
    "from PIL import Image, ImageOps\n",
    "import rawpy, os\n",
    "\n",
    "path = \"C:\\Users\\user\\Desktop\\eos\\cr2\"\n",
    "files = os.listdir(path)\n",
    "\n",
    "for k in files:\n",
    "    raw = rawpy.imread(path + '\\\\' + k)\n",
    "    rgb = raw.postprocess()\n",
    "    img = Image.fromarray(rgb)\n",
    "    img = ImageOps.fit(img, (1300, 882), Image.ANTIALIAS)\n",
    "    width = img.size[0]\n",
    "    height = img.size[1]\n",
    "    pix = img.load()\n",
    "    \n",
    "    for i in range(width):\n",
    "        for j in range(height):\n",
    "            a = pix[i, j][0]\n",
    "            b = pix[i, j][1]\n",
    "            c = pix[i, j][2]\n",
    "            S = (a + b + c) // 3\n",
    "            img.putpixel((i, j), (S, S, S))\n",
    "    #plt.imshow(img)\n",
    "    #plt.show()\n",
    "     \n",
    "    pix = img.load()\n",
    "    d = []\n",
    "    for i in range(width):\n",
    "        d.append(pix[i, 441][0])\n",
    "        \n",
    "    plt.plot(range(width), d)\n",
    "    plt.grid(True)\n",
    "    plt.savefig((path + '\\\\' + k)[0:len(path + '\\\\' + k) - 4] + '_graph.jpg', dpi = 100)\n",
    "    plt.clf()"
   ]
  },
  {
   "cell_type": "code",
   "execution_count": null,
   "metadata": {
    "collapsed": true
   },
   "outputs": [],
   "source": []
  }
 ],
 "metadata": {
  "kernelspec": {
   "display_name": "Python [default]",
   "language": "python",
   "name": "python2"
  },
  "language_info": {
   "codemirror_mode": {
    "name": "ipython",
    "version": 2
   },
   "file_extension": ".py",
   "mimetype": "text/x-python",
   "name": "python",
   "nbconvert_exporter": "python",
   "pygments_lexer": "ipython2",
   "version": "2.7.12"
  }
 },
 "nbformat": 4,
 "nbformat_minor": 1
}
